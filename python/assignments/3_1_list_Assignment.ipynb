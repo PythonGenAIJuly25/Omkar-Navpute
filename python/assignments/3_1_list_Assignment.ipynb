{
  "cells": [
    {
      "cell_type": "markdown",
      "id": "ZLHSDJfff2cK",
      "metadata": {
        "id": "ZLHSDJfff2cK"
      },
      "source": [
        "# Module 3: Data Structures Assignments\n",
        "## Lesson 3.1: Lists\n",
        "### Assignment 1: Creating and Accessing Lists\n",
        "\n",
        "Create a list of the first 20 positive integers. Print the list.\n"
      ]
    },
    {
      "cell_type": "code",
      "execution_count": null,
      "id": "1d4544ee",
      "metadata": {
        "id": "1d4544ee",
        "outputId": "7eb7d9ff-9bb5-4952-9608-4f2ddc45b0ce"
      },
      "outputs": [
        {
          "name": "stdout",
          "output_type": "stream",
          "text": [
            "[1, 2, 3, 4, 5, 6, 7, 8, 9, 10, 11, 12, 13, 14, 15, 16, 17, 18, 19, 20]\n",
            "1\n"
          ]
        }
      ],
      "source": [
        "my_list = [1,2,3,4,5,6,7,8,9,10,11,12,13,14,15,16,17,18,19,20]\n",
        "\n",
        "print(my_list)"
      ]
    },
    {
      "cell_type": "markdown",
      "id": "5acd0f01",
      "metadata": {
        "id": "5acd0f01"
      },
      "source": [
        "\n",
        "### Assignment 2: Accessing List Elements\n",
        "\n",
        "Print the first, middle, and last elements of the list created in Assignment 1.\n"
      ]
    },
    {
      "cell_type": "code",
      "execution_count": null,
      "id": "6456edd2",
      "metadata": {
        "id": "6456edd2",
        "outputId": "700d24af-d344-449d-b8bf-bca3419511de"
      },
      "outputs": [
        {
          "name": "stdout",
          "output_type": "stream",
          "text": [
            "first element is 1\n",
            "middle element is 11\n",
            "last element is 22\n"
          ]
        }
      ],
      "source": [
        "\n",
        "print(f\"first element is {my_list1[0]}\")\n",
        "\n",
        "print(f\"middle element is {len(my_list1) // 2}\")\n",
        "\n",
        "print(f\"last element is {my_list1[-1]}\")\n",
        "\n"
      ]
    },
    {
      "cell_type": "markdown",
      "id": "b3c26caa",
      "metadata": {
        "id": "b3c26caa"
      },
      "source": [
        "\n",
        "### Assignment 3: List Slicing\n",
        "\n",
        "Print the first five elements, the last five elements, and the elements from index 5 to 15 of the list created in Assignment 1.\n"
      ]
    },
    {
      "cell_type": "code",
      "execution_count": null,
      "id": "8a8acb8b",
      "metadata": {
        "id": "8a8acb8b",
        "outputId": "078b4f91-d904-46da-a65e-fa58211b7254"
      },
      "outputs": [
        {
          "name": "stdout",
          "output_type": "stream",
          "text": [
            "[1, 2, 3, 4, 5]\n",
            "[6, 7, 8, 9, 10, 11, 12, 13, 14, 15]\n",
            "[16, 17, 18, 19, 20]\n"
          ]
        }
      ],
      "source": [
        "numbers = list(range(1, 21))\n",
        "\n",
        "print(numbers[:5])\n",
        "\n",
        "print(numbers[5:15])\n",
        "\n",
        "print(numbers[-5:])\n"
      ]
    },
    {
      "cell_type": "markdown",
      "id": "2fac8fa9",
      "metadata": {
        "id": "2fac8fa9"
      },
      "source": [
        "\n",
        "### Assignment 4: List Comprehensions\n",
        "\n",
        "Create a new list containing the squares of the first 10 positive integers using a list comprehension. Print the new list.\n"
      ]
    },
    {
      "cell_type": "code",
      "execution_count": null,
      "id": "8088a927",
      "metadata": {
        "id": "8088a927",
        "outputId": "fe6a9515-6aca-47be-c9b8-4ddaf00e7317"
      },
      "outputs": [
        {
          "data": {
            "text/plain": [
              "[1, 4, 9, 16, 25, 36, 49, 64, 81, 100]"
            ]
          },
          "execution_count": 27,
          "metadata": {},
          "output_type": "execute_result"
        }
      ],
      "source": [
        "squared_numbers = [num**2 for num in range(1, 11)]\n",
        "\n",
        "squared_numbers"
      ]
    },
    {
      "cell_type": "markdown",
      "id": "73934ec1",
      "metadata": {
        "id": "73934ec1"
      },
      "source": [
        "\n",
        "### Assignment 5: Filtering Lists\n",
        "\n",
        "Create a new list containing only the even numbers from the list created in Assignment 1 using a list comprehension. Print the new list.\n"
      ]
    },
    {
      "cell_type": "code",
      "execution_count": null,
      "id": "3bd5bd2b",
      "metadata": {
        "id": "3bd5bd2b",
        "outputId": "e646de9d-07a2-444d-e2ca-6271b83aa977"
      },
      "outputs": [
        {
          "name": "stdout",
          "output_type": "stream",
          "text": [
            "[1, 2, 3, 4, 5, 6, 7, 8, 9, 10, 11, 12, 13, 14, 15, 16, 17, 18, 19, 20]\n",
            "[2, 4, 6, 8, 10, 12, 14, 16, 18, 20]\n"
          ]
        }
      ],
      "source": [
        "print(numbers)\n",
        "\n",
        "even_numbers = [even for even in numbers if even % 2 == 0]\n",
        "\n",
        "print(even_numbers)"
      ]
    },
    {
      "cell_type": "markdown",
      "id": "1180f859",
      "metadata": {
        "id": "1180f859"
      },
      "source": [
        "\n",
        "### Assignment 6: List Methods\n",
        "\n",
        "Create a list of random numbers and sort it in ascending and descending order. Remove the duplicates from the list and print the modified list.\n"
      ]
    },
    {
      "cell_type": "code",
      "execution_count": null,
      "id": "38f8b7ae",
      "metadata": {
        "id": "38f8b7ae",
        "outputId": "9b5aef80-1785-4870-ab7c-b78629b3fa0b"
      },
      "outputs": [
        {
          "name": "stdout",
          "output_type": "stream",
          "text": [
            "[2, 2, 4, 4, 5, 6, 7, 7]\n",
            "[7, 7, 6, 5, 4, 4, 2, 2]\n",
            "[2, 4, 5, 6, 7]\n"
          ]
        }
      ],
      "source": [
        "random_list = [2,4,7,7,4,6,2,5]\n",
        "\n",
        "ascending = sorted(random_list)\n",
        "print(ascending)\n",
        "\n",
        "descending = sorted(random_list, reverse=True)\n",
        "print(descending)\n",
        "\n",
        "remove_duplicates = list(set(random_list))\n",
        "print(remove_duplicates)"
      ]
    },
    {
      "cell_type": "markdown",
      "id": "69d1df5b",
      "metadata": {
        "id": "69d1df5b"
      },
      "source": [
        "\n",
        "### Assignment 7: Nested Lists\n",
        "\n",
        "Create a nested list representing a 3x3 matrix and print the matrix. Access and print the element at the second row and third column.\n"
      ]
    },
    {
      "cell_type": "code",
      "execution_count": null,
      "id": "a2df9b49",
      "metadata": {
        "id": "a2df9b49",
        "outputId": "6e983e4f-a0a3-4cee-8942-8ab14f97eb62"
      },
      "outputs": [
        {
          "name": "stdout",
          "output_type": "stream",
          "text": [
            "srikakulam\n"
          ]
        }
      ],
      "source": [
        "nested_list = [[\"sai\",25,\"hyd\"], [\"sindhu\",23,\"srikakulam\"], [\"lakshmi\",21,\"amalapuram\"]]\n",
        "\n",
        "print(nested_list[1][2])"
      ]
    },
    {
      "cell_type": "markdown",
      "id": "37b01efb",
      "metadata": {
        "id": "37b01efb"
      },
      "source": [
        "\n",
        "### Assignment 8: List of Dictionaries\n",
        "\n",
        "Create a list of dictionaries where each dictionary represents a student with keys 'name' and 'score'. Sort the list of dictionaries by the 'score' in descending order and print the sorted list.\n"
      ]
    },
    {
      "cell_type": "code",
      "execution_count": null,
      "id": "369af51d",
      "metadata": {
        "id": "369af51d",
        "outputId": "e3c31874-daf3-4550-da91-0a481712b258"
      },
      "outputs": [
        {
          "name": "stdout",
          "output_type": "stream",
          "text": [
            "[{'name': 'ganesh', 'score': 89}, {'name': 'prasad', 'score': 85}, {'name': 'uday', 'score': 74}, {'name': 'sai', 'score': 71}]\n"
          ]
        }
      ],
      "source": [
        "students = [{'name':'sai','score':71},{'name':'prasad','score':85},{'name':'ganesh','score':89},{'name':'uday','score':74}]\n",
        "\n",
        "sorted_list = sorted(students, key=lambda student: student['score'], reverse=True)\n",
        "\n",
        "print(sorted_list)"
      ]
    },
    {
      "cell_type": "markdown",
      "id": "97d077a6",
      "metadata": {
        "id": "97d077a6"
      },
      "source": [
        "\n",
        "### Assignment 9: Matrix Transposition\n",
        "\n",
        "Write a function that takes a 3x3 matrix (nested list) as input and returns its transpose. Print the original and transposed matrices.\n"
      ]
    },
    {
      "cell_type": "markdown",
      "id": "e7fea166",
      "metadata": {
        "id": "e7fea166"
      },
      "source": [
        "\n",
        "### Assignment 10: Flattening a Nested List\n",
        "\n",
        "Write a function that takes a nested list and flattens it into a single list. Print the original and flattened lists.\n"
      ]
    },
    {
      "cell_type": "code",
      "execution_count": null,
      "id": "5f877edd",
      "metadata": {
        "id": "5f877edd",
        "outputId": "b5292e4d-fec2-4e42-e287-d6041c662610"
      },
      "outputs": [
        {
          "name": "stdout",
          "output_type": "stream",
          "text": [
            "[[1, 2], [3, 4], [5, 6]]\n",
            "[1, 2, 3, 4, 5, 6]\n"
          ]
        }
      ],
      "source": [
        "nested_list = [[1,2],[3,4],[5,6]]\n",
        "\n",
        "def flatten_list(nested_list):\n",
        "    new_list = []\n",
        "    for i in nested_list:\n",
        "        for j in i:\n",
        "            new_list.append(j)\n",
        "    return new_list\n",
        "\n",
        "flattened = flatten_list(nested_list)\n",
        "\n",
        "print(nested_list)\n",
        "print(flattened)"
      ]
    },
    {
      "cell_type": "markdown",
      "id": "b4dc63c3",
      "metadata": {
        "id": "b4dc63c3"
      },
      "source": [
        "\n",
        "### Assignment 11: List Manipulation\n",
        "\n",
        "Create a list of the first 10 positive integers. Remove the elements at indices 2, 4, and 6, and insert the element '99' at index 5. Print the modified list.\n"
      ]
    },
    {
      "cell_type": "code",
      "execution_count": null,
      "id": "539584a6",
      "metadata": {
        "id": "539584a6",
        "outputId": "88d3a505-1b57-49d0-9a1d-80f95969ec37"
      },
      "outputs": [
        {
          "name": "stdout",
          "output_type": "stream",
          "text": [
            "[1, 2, 3, 4, 5, 6, 7, 8, 9, 10]\n",
            "[1, 2, 4, 6, 8, 9, 10]\n",
            "[1, 2, 4, 6, 8, 99, 9, 10]\n"
          ]
        }
      ],
      "source": [
        "numbers = list(range(1, 11))\n",
        "print(numbers)\n",
        "\n",
        "for i in [6,4,2]:\n",
        "    del numbers[i]\n",
        "\n",
        "print(numbers)\n",
        "numbers.insert(5, 99)\n",
        "\n",
        "print(numbers)"
      ]
    },
    {
      "cell_type": "markdown",
      "id": "a1ad7cff",
      "metadata": {
        "id": "a1ad7cff"
      },
      "source": [
        "\n",
        "### Assignment 12: List Zipping\n",
        "\n",
        "Create two lists of the same length. Use the `zip` function to combine these lists into a list of tuples and print the result.\n"
      ]
    },
    {
      "cell_type": "code",
      "execution_count": 2,
      "id": "4306955f",
      "metadata": {
        "colab": {
          "base_uri": "https://localhost:8080/"
        },
        "id": "4306955f",
        "outputId": "6d996c09-b8f9-4392-f627-b01178f0805e"
      },
      "outputs": [
        {
          "output_type": "stream",
          "name": "stdout",
          "text": [
            "[('sai', 25), ('prasad', 22), ('uday', 27)]\n"
          ]
        }
      ],
      "source": [
        "name = [\"sai\",\"prasad\",\"uday\"]\n",
        "age = [25,22,27]\n",
        "combined = list(zip(name, age))\n",
        "print(combined)"
      ]
    },
    {
      "cell_type": "markdown",
      "id": "7f4f476c",
      "metadata": {
        "id": "7f4f476c"
      },
      "source": [
        "\n",
        "### Assignment 13: List Reversal\n",
        "\n",
        "Write a function that takes a list and returns a new list with the elements in reverse order. Print the original and reversed lists.\n"
      ]
    },
    {
      "cell_type": "code",
      "execution_count": 3,
      "id": "e5dc80d1",
      "metadata": {
        "colab": {
          "base_uri": "https://localhost:8080/"
        },
        "id": "e5dc80d1",
        "outputId": "a206cdd9-08d2-46ad-c3fb-5f00e9e7695b"
      },
      "outputs": [
        {
          "output_type": "stream",
          "name": "stdout",
          "text": [
            "[1, 2, 3, 4, 5]\n",
            "[5, 4, 3, 2, 1]\n"
          ]
        }
      ],
      "source": [
        "normal_number = [1,2,3,4,5]\n",
        "\n",
        "def reverse(listnumber):\n",
        "    return listnumber[::-1]\n",
        "\n",
        "reverse_number = reverse(normal_number)\n",
        "\n",
        "print(normal_number)\n",
        "print(reverse_number)"
      ]
    },
    {
      "cell_type": "markdown",
      "id": "be297997",
      "metadata": {
        "id": "be297997"
      },
      "source": [
        "\n",
        "### Assignment 14: List Rotation\n",
        "\n",
        "Write a function that rotates a list by n positions. Print the original and rotated lists.\n"
      ]
    },
    {
      "cell_type": "markdown",
      "id": "61ee2960",
      "metadata": {
        "id": "61ee2960"
      },
      "source": [
        "\n",
        "### Assignment 15: List Intersection\n",
        "\n",
        "Write a function that takes two lists and returns a new list containing only the elements that are present in both lists. Print the intersected list."
      ]
    },
    {
      "cell_type": "code",
      "execution_count": null,
      "id": "93e9a528",
      "metadata": {
        "id": "93e9a528",
        "outputId": "61e38ed8-e83b-4d72-c798-6c3bed0f0c2b"
      },
      "outputs": [
        {
          "name": "stdout",
          "output_type": "stream",
          "text": [
            "[2, 4]\n"
          ]
        }
      ],
      "source": [
        "list_one = [1,2,3,4,5,4]\n",
        "list_two = [7,8,9,2,4]\n",
        "\n",
        "def intersectlist(list1, list2):\n",
        "    new_list = []\n",
        "    for i in list1:\n",
        "        if i in list2 and i not in new_list:\n",
        "            new_list.append(i)\n",
        "    return new_list\n",
        "\n",
        "intersect_list = intersectlist(list_one, list_two)\n",
        "\n",
        "print(intersect_list)"
      ]
    }
  ],
  "metadata": {
    "colab": {
      "provenance": []
    },
    "kernelspec": {
      "display_name": "Python 3",
      "language": "python",
      "name": "python3"
    },
    "language_info": {
      "codemirror_mode": {
        "name": "ipython",
        "version": 3
      },
      "file_extension": ".py",
      "mimetype": "text/x-python",
      "name": "python",
      "nbconvert_exporter": "python",
      "pygments_lexer": "ipython3",
      "version": "3.13.3"
    }
  },
  "nbformat": 4,
  "nbformat_minor": 5
}