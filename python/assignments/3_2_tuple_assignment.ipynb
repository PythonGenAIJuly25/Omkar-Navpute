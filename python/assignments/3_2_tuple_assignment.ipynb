{
  "cells": [
    {
      "cell_type": "markdown",
      "id": "6cade624",
      "metadata": {
        "id": "6cade624"
      },
      "source": [
        "# Module 3: Data Structures Assignments\n",
        "## Lesson 3.2: Tuples\n",
        "### Assignment 1: Creating and Accessing Tuples\n",
        "\n",
        "Create a tuple with the first 10 positive integers. Print the tuple.\n"
      ]
    },
    {
      "cell_type": "code",
      "execution_count": null,
      "id": "dac83672",
      "metadata": {
        "id": "dac83672",
        "outputId": "9120bbe9-e51a-48cd-a66b-d209a563015c"
      },
      "outputs": [
        {
          "data": {
            "text/plain": [
              "(1, 2, 3, 4, 5, 6, 7, 8, 9, 10)"
            ]
          },
          "execution_count": 1,
          "metadata": {},
          "output_type": "execute_result"
        }
      ],
      "source": [
        "numbers = tuple(range(1, 11))\n",
        "numbers"
      ]
    },
    {
      "cell_type": "markdown",
      "id": "7507b041",
      "metadata": {
        "id": "7507b041"
      },
      "source": [
        "\n",
        "### Assignment 2: Accessing Tuple Elements\n",
        "\n",
        "Print the first, middle, and last elements of the tuple created in Assignment 1.\n"
      ]
    },
    {
      "cell_type": "code",
      "execution_count": null,
      "id": "ae6a01c3",
      "metadata": {
        "id": "ae6a01c3",
        "outputId": "494c7b17-d4e9-41df-ecfb-2b16261e115a"
      },
      "outputs": [
        {
          "name": "stdout",
          "output_type": "stream",
          "text": [
            "2\n",
            "6\n",
            "10\n"
          ]
        }
      ],
      "source": [
        "print(numbers[1])\n",
        "print(numbers[len(numbers) // 2])\n",
        "print(numbers[-1])"
      ]
    },
    {
      "cell_type": "markdown",
      "id": "a18cda85",
      "metadata": {
        "id": "a18cda85"
      },
      "source": [
        "\n",
        "### Assignment 3: Tuple Slicing\n",
        "\n",
        "Print the first three elements, the last three elements, and the elements from index 2 to 5 of the tuple created in Assignment 1.\n"
      ]
    },
    {
      "cell_type": "code",
      "execution_count": null,
      "id": "80c8f884",
      "metadata": {
        "id": "80c8f884",
        "outputId": "bdf330fa-8936-4a62-a5f5-57441c0e9559"
      },
      "outputs": [
        {
          "name": "stdout",
          "output_type": "stream",
          "text": [
            "(1, 2, 3)\n",
            "(8, 9, 10)\n",
            "(3, 4, 5)\n"
          ]
        }
      ],
      "source": [
        "print(numbers[:3])\n",
        "print(numbers[-3:])\n",
        "print(numbers[2:5])"
      ]
    },
    {
      "cell_type": "markdown",
      "id": "9f87d837",
      "metadata": {
        "id": "9f87d837"
      },
      "source": [
        "\n",
        "### Assignment 4: Nested Tuples\n",
        "\n",
        "Create a nested tuple representing a 3x3 matrix and print the matrix. Access and print the element at the second row and third column.\n"
      ]
    },
    {
      "cell_type": "code",
      "execution_count": null,
      "id": "da3b5e41",
      "metadata": {
        "id": "da3b5e41",
        "outputId": "c329a14b-97e4-4cfc-ed3a-fea5bf3910d8"
      },
      "outputs": [
        {
          "name": "stdout",
          "output_type": "stream",
          "text": [
            "((1, 3, 5), (2, 4, 6), (3, 5, 7))\n",
            "6\n"
          ]
        }
      ],
      "source": [
        "my_tuple = ((1,3,5),(2,4,6),(3,5,7))\n",
        "print(my_tuple)\n",
        "print(my_tuple[1][2])"
      ]
    },
    {
      "cell_type": "markdown",
      "id": "4f239e07",
      "metadata": {
        "id": "4f239e07"
      },
      "source": [
        "\n",
        "### Assignment 5: Tuple Concatenation\n",
        "\n",
        "Concatenate two tuples: (1, 2, 3) and (4, 5, 6). Print the resulting tuple.\n"
      ]
    },
    {
      "cell_type": "code",
      "execution_count": null,
      "id": "d20a7e6c",
      "metadata": {
        "id": "d20a7e6c",
        "outputId": "70665d9b-e022-4b04-e304-fb83d213a10a"
      },
      "outputs": [
        {
          "name": "stdout",
          "output_type": "stream",
          "text": [
            "(1, 2, 3, 4, 5, 6)\n"
          ]
        }
      ],
      "source": [
        "tuple1 = (1,2,3)\n",
        "tuple2 = (4,5,6)\n",
        "combined = tuple1 + tuple2\n",
        "print(combined)"
      ]
    },
    {
      "cell_type": "markdown",
      "id": "44a6668f",
      "metadata": {
        "id": "44a6668f"
      },
      "source": [
        "\n",
        "### Assignment 6: Tuple Methods\n",
        "\n",
        "Create a tuple with duplicate elements and count the occurrences of an element. Find the index of the first occurrence of an element in the tuple.\n"
      ]
    },
    {
      "cell_type": "code",
      "execution_count": null,
      "id": "17c95f04",
      "metadata": {
        "id": "17c95f04",
        "outputId": "4c3d71f4-5f1f-4ef2-a33c-6f6589a9d21e"
      },
      "outputs": [
        {
          "name": "stdout",
          "output_type": "stream",
          "text": [
            "3\n",
            "3\n"
          ]
        }
      ],
      "source": [
        "dup_tuple = (1,2,3,4,5,4,6,4)\n",
        "count_number = dup_tuple.count(4)\n",
        "index_number = dup_tuple.index(4)\n",
        "\n",
        "print(count_number)\n",
        "print(index_number)\n",
        "\n"
      ]
    },
    {
      "cell_type": "markdown",
      "id": "ac38d612",
      "metadata": {
        "id": "ac38d612"
      },
      "source": [
        "\n",
        "### Assignment 7: Unpacking Tuples\n",
        "\n",
        "Create a tuple with 5 elements and unpack it into 5 variables. Print the variables.\n"
      ]
    },
    {
      "cell_type": "code",
      "execution_count": null,
      "id": "6c44db3f",
      "metadata": {
        "id": "6c44db3f",
        "outputId": "ec3748f7-4ce4-40ac-a376-dd0c18af66e3"
      },
      "outputs": [
        {
          "name": "stdout",
          "output_type": "stream",
          "text": [
            "5\n",
            "8\n",
            "2\n",
            "6\n",
            "2\n"
          ]
        }
      ],
      "source": [
        "tuple_number = (5,8,2,6,2)\n",
        "a,b,c,d,e = tuple_number\n",
        "\n",
        "print(a)\n",
        "print(b)\n",
        "print(c)\n",
        "print(d)\n",
        "print(e)"
      ]
    },
    {
      "cell_type": "markdown",
      "id": "99c285f7",
      "metadata": {
        "id": "99c285f7"
      },
      "source": [
        "\n",
        "### Assignment 8: Tuple Conversion\n",
        "\n",
        "Convert a list of the first 5 positive integers to a tuple. Print the tuple.\n"
      ]
    },
    {
      "cell_type": "code",
      "execution_count": null,
      "id": "7dc5a462",
      "metadata": {
        "id": "7dc5a462",
        "outputId": "7df16fb8-04c7-4d83-dbda-3f495207a277"
      },
      "outputs": [
        {
          "name": "stdout",
          "output_type": "stream",
          "text": [
            "(12, 45, 75, 24, 5)\n"
          ]
        }
      ],
      "source": [
        "my_list = [12,45,75,24,5]\n",
        "tuple_list = tuple(my_list)\n",
        "print(tuple_list)"
      ]
    },
    {
      "cell_type": "markdown",
      "id": "82157d1b",
      "metadata": {
        "id": "82157d1b"
      },
      "source": [
        "\n",
        "### Assignment 9: Tuple of Tuples\n",
        "\n",
        "Create a tuple containing 3 tuples, each with 3 elements. Print the tuple of tuples.\n"
      ]
    },
    {
      "cell_type": "code",
      "execution_count": null,
      "id": "21585657",
      "metadata": {
        "id": "21585657",
        "outputId": "28aaf6f4-772f-4f8c-e6e1-930d6b316ce6"
      },
      "outputs": [
        {
          "name": "stdout",
          "output_type": "stream",
          "text": [
            "(1, 2, 3)\n",
            "(4, 5, 6)\n",
            "(7, 8, 9)\n"
          ]
        }
      ],
      "source": [
        "nested_tuple = ((1,2,3),(4,5,6),(7,8,9))\n",
        "for i in nested_tuple:\n",
        "    print(i)"
      ]
    },
    {
      "cell_type": "markdown",
      "id": "c3729d88",
      "metadata": {
        "id": "c3729d88"
      },
      "source": [
        "\n",
        "### Assignment 10: Tuple and List\n",
        "\n",
        "Create a tuple with the first 5 positive integers. Convert it to a list, append the number 6, and convert it back to a tuple. Print the resulting tuple.\n"
      ]
    },
    {
      "cell_type": "code",
      "execution_count": null,
      "id": "7515e295",
      "metadata": {
        "id": "7515e295",
        "outputId": "3c8d1561-5d93-4512-c465-bcf0beb72eec"
      },
      "outputs": [
        {
          "name": "stdout",
          "output_type": "stream",
          "text": [
            "(1, 2, 3, 4, 5, 6)\n"
          ]
        }
      ],
      "source": [
        "pos_tuple = (1,2,3,4,5)\n",
        "list_tuple = list(pos_tuple)\n",
        "list_tuple.append(6)\n",
        "converted = tuple(list_tuple)\n",
        "\n",
        "print(converted)"
      ]
    },
    {
      "cell_type": "markdown",
      "id": "c812c592",
      "metadata": {
        "id": "c812c592"
      },
      "source": [
        "\n",
        "### Assignment 11: Tuple and String\n",
        "\n",
        "Create a tuple with the characters of a string. Join the tuple elements into a single string. Print the string.\n"
      ]
    },
    {
      "cell_type": "code",
      "execution_count": null,
      "id": "237a3b53",
      "metadata": {
        "id": "237a3b53",
        "outputId": "a74f2429-270d-4464-cffc-35dcf1395ab9"
      },
      "outputs": [
        {
          "name": "stdout",
          "output_type": "stream",
          "text": [
            "sindhu\n"
          ]
        }
      ],
      "source": [
        "string_tuple = ('s','i','n','d','h','u')\n",
        "\n",
        "singlestring = ''.join(string_tuple)\n",
        "print(singlestring)\n"
      ]
    },
    {
      "cell_type": "markdown",
      "id": "a813a065",
      "metadata": {
        "id": "a813a065"
      },
      "source": [
        "\n",
        "### Assignment 12: Tuple and Dictionary\n",
        "\n",
        "Create a dictionary with tuple keys and integer values. Print the dictionary.\n"
      ]
    },
    {
      "cell_type": "code",
      "execution_count": null,
      "id": "98be7104",
      "metadata": {
        "id": "98be7104",
        "outputId": "8629b700-654e-4de4-f973-381357ad5ba3"
      },
      "outputs": [
        {
          "name": "stdout",
          "output_type": "stream",
          "text": [
            "{'sai': 24, 'prasad': 33, 'ganesh': 65}\n"
          ]
        }
      ],
      "source": [
        "dict_tuple = {('sai'):24, ('prasad'):33, ('ganesh'):65}\n",
        "\n",
        "print(dict_tuple)"
      ]
    },
    {
      "cell_type": "markdown",
      "id": "925826d1",
      "metadata": {
        "id": "925826d1"
      },
      "source": [
        "\n",
        "### Assignment 13: Nested Tuple Iteration\n",
        "\n",
        "Create a nested tuple and iterate over the elements, printing each element.\n"
      ]
    },
    {
      "cell_type": "code",
      "execution_count": 1,
      "id": "4e53767a",
      "metadata": {
        "colab": {
          "base_uri": "https://localhost:8080/"
        },
        "id": "4e53767a",
        "outputId": "828cdea4-b7bf-4531-9641-2a07a2759896"
      },
      "outputs": [
        {
          "output_type": "stream",
          "name": "stdout",
          "text": [
            "omkar\n",
            "22\n",
            "mah\n",
            "shree\n",
            "20\n",
            "hyd\n",
            "ram\n",
            "34\n",
            "pune\n"
          ]
        }
      ],
      "source": [
        "nested_tuple = (('omkar',22,'mah'), ('shree',20,'hyd'), ('ram',34,'pune'))\n",
        "\n",
        "for tuple in nested_tuple:\n",
        "    for element in tuple:\n",
        "        print(element)"
      ]
    },
    {
      "cell_type": "markdown",
      "id": "1928c8c8",
      "metadata": {
        "id": "1928c8c8"
      },
      "source": [
        "\n",
        "### Assignment 14: Tuple and Set\n",
        "\n",
        "Create a tuple with duplicate elements. Convert it to a set to remove duplicates and print the resulting set.\n"
      ]
    },
    {
      "cell_type": "code",
      "execution_count": null,
      "id": "79b7a2d9",
      "metadata": {
        "id": "79b7a2d9",
        "outputId": "effc6b18-a15e-4cf5-aa5a-370e93356378"
      },
      "outputs": [
        {
          "name": "stdout",
          "output_type": "stream",
          "text": [
            "{1, 2, 3, 4, 5}\n"
          ]
        }
      ],
      "source": [
        "original_tuple = (1,2,3,4,5,4,3,2,1)\n",
        "\n",
        "set_tuple = set(original_tuple)\n",
        "\n",
        "print(set_tuple)"
      ]
    },
    {
      "cell_type": "markdown",
      "id": "2414a518",
      "metadata": {
        "id": "2414a518"
      },
      "source": [
        "\n",
        "### Assignment 15: Tuple Functions\n",
        "\n",
        "Write functions that take a tuple and return the minimum, maximum, and sum of the elements. Print the results for a sample tuple."
      ]
    },
    {
      "cell_type": "code",
      "execution_count": null,
      "metadata": {
        "id": "cr7lgYhw8svW",
        "outputId": "b8338cd0-6922-48a5-ba5b-20896a2f84e0"
      },
      "outputs": [
        {
          "name": "stdout",
          "output_type": "stream",
          "text": [
            "(1, 2, 3, 4, 5)\n",
            "min element is 1\n",
            "max element is 5\n",
            "sum of elements is 15\n"
          ]
        }
      ],
      "source": [
        "sample_tuple = (1,2,3,4,5)\n",
        "\n",
        "def minvalue(sample_tuple):\n",
        "    return min(sample_tuple)\n",
        "\n",
        "def maxvalue(sample_tuple):\n",
        "    return max(sample_tuple)\n",
        "\n",
        "def sumvalue(sample_tuple):\n",
        "    return sum(sample_tuple)\n",
        "\n",
        "print(sample_tuple)\n",
        "print(f\"min element is {minvalue(sample_tuple)}\")\n",
        "print(f\"max element is {maxvalue(sample_tuple)}\")\n",
        "print(f\"sum of elements is {sumvalue(sample_tuple)}\")"
      ],
      "id": "cr7lgYhw8svW"
    }
  ],
  "metadata": {
    "kernelspec": {
      "display_name": "Python 3",
      "language": "python",
      "name": "python3"
    },
    "language_info": {
      "codemirror_mode": {
        "name": "ipython",
        "version": 3
      },
      "file_extension": ".py",
      "mimetype": "text/x-python",
      "name": "python",
      "nbconvert_exporter": "python",
      "pygments_lexer": "ipython3",
      "version": "3.13.3"
    },
    "colab": {
      "provenance": []
    }
  },
  "nbformat": 4,
  "nbformat_minor": 5
}