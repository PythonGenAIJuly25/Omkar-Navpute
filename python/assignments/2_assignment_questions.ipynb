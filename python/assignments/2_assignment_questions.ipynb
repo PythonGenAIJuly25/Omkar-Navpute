{
  "cells": [
    {
      "cell_type": "markdown",
      "source": [
        "# Module 2: Control Flow Assignments\n",
        "## Lesson 2.1: Conditional Statements"
      ],
      "metadata": {
        "id": "t_EDGnqdYJSX"
      },
      "id": "t_EDGnqdYJSX"
    },
    {
      "cell_type": "markdown",
      "source": [
        "### Assignment 1: Simple if Statement\n",
        "\n",
        "Write a program that asks the user to input a number and prints whether the number is positive."
      ],
      "metadata": {
        "id": "nc4uyzeOX_Ua"
      },
      "id": "nc4uyzeOX_Ua"
    },
    {
      "cell_type": "code",
      "source": [
        "# your code here\n",
        "num = int(input(\"enter a number : \"))\n",
        "if num > 0:\n",
        "  print(\"the number is positive\")"
      ],
      "metadata": {
        "id": "1f71SE04YAzG",
        "colab": {
          "base_uri": "https://localhost:8080/"
        },
        "outputId": "0f4599a3-8dff-49ec-dff8-f3ecf34f1941"
      },
      "id": "1f71SE04YAzG",
      "execution_count": 2,
      "outputs": [
        {
          "output_type": "stream",
          "name": "stdout",
          "text": [
            "enter a number : 10\n",
            "the number is positive\n"
          ]
        }
      ]
    },
    {
      "cell_type": "markdown",
      "source": [
        "### Assignment 2: if-else Statement\n",
        "\n",
        "Write a program that asks the user to input a number and prints whether the number is positive or negative."
      ],
      "metadata": {
        "id": "6MIuZhEAYNTS"
      },
      "id": "6MIuZhEAYNTS"
    },
    {
      "cell_type": "code",
      "source": [
        "# your code here\n",
        "num = input(\"enter a number : \")\n",
        "if num > 0:\n",
        "  print(\"the number is positive\")\n",
        "else:\n",
        "  print(\"the number is negative\")"
      ],
      "metadata": {
        "id": "mu870IIRYRSu",
        "colab": {
          "base_uri": "https://localhost:8080/"
        },
        "outputId": "855195da-b950-421f-e123-7415e7d67d4a"
      },
      "id": "mu870IIRYRSu",
      "execution_count": 3,
      "outputs": [
        {
          "output_type": "stream",
          "name": "stdout",
          "text": [
            "enter a number : -10\n",
            "the number is negative\n"
          ]
        }
      ]
    },
    {
      "cell_type": "markdown",
      "source": [
        "### Assignment 3: if-elif-else Statement\n",
        "\n",
        "Write a program that asks the user to input a number and prints whether the number is positive, negative, or zero.\n",
        "\n"
      ],
      "metadata": {
        "id": "-Ih7FDLV2YKw"
      },
      "id": "-Ih7FDLV2YKw"
    },
    {
      "cell_type": "code",
      "source": [
        "num = int(input(\"enter a number : \"))\n",
        "if num > 0:\n",
        "  print(\"the number is positive\")\n",
        "elif num == 0:\n",
        "  print(\"the number is zero\")\n",
        "else:\n",
        "  print(\"the number is negative\")"
      ],
      "metadata": {
        "colab": {
          "base_uri": "https://localhost:8080/"
        },
        "id": "vPVKoBF72e04",
        "outputId": "4b60cd2d-2a02-45bc-c074-b24d8a51a1b4"
      },
      "id": "vPVKoBF72e04",
      "execution_count": 5,
      "outputs": [
        {
          "output_type": "stream",
          "name": "stdout",
          "text": [
            "enter a number : 10\n",
            "the number is positive\n"
          ]
        }
      ]
    },
    {
      "cell_type": "markdown",
      "source": [
        "\n",
        "### Assignment 4: Nested if Statement\n",
        "\n",
        "Write a program that asks the user to input a number and prints whether the number is positive and even, positive and odd, or negative."
      ],
      "metadata": {
        "id": "6wXNef3F26gV"
      },
      "id": "6wXNef3F26gV"
    },
    {
      "cell_type": "code",
      "source": [
        "num = int(input(\"Enter a number: \"))\n",
        "\n",
        "if num > 0:\n",
        "    if num % 2 == 0:\n",
        "        print(\"The number is positive and even.\")\n",
        "    else:\n",
        "        print(\"The number is positive and odd.\")\n",
        "elif num < 0:\n",
        "    print(\"The number is negative.\")\n",
        "else:\n",
        "    print(\"The number is zero.\")"
      ],
      "metadata": {
        "colab": {
          "base_uri": "https://localhost:8080/"
        },
        "id": "wqrZRFHq27dJ",
        "outputId": "3123f84b-c173-439b-a782-18f49a8dcc83"
      },
      "id": "wqrZRFHq27dJ",
      "execution_count": 17,
      "outputs": [
        {
          "output_type": "stream",
          "name": "stdout",
          "text": [
            "Enter a number: 50\n",
            "The number is positive and even.\n"
          ]
        }
      ]
    },
    {
      "cell_type": "markdown",
      "source": [
        "## Lesson 2.2: Loops\n",
        "### Assignment 5: for Loop\n",
        "\n",
        "Write a program that prints all the numbers from 1 to 10 using a for loop."
      ],
      "metadata": {
        "id": "cxNQqMPb3PXM"
      },
      "id": "cxNQqMPb3PXM"
    },
    {
      "cell_type": "code",
      "source": [
        "for i in range(1, 11):\n",
        "    print(i)"
      ],
      "metadata": {
        "colab": {
          "base_uri": "https://localhost:8080/"
        },
        "id": "k8jY9ej23QgA",
        "outputId": "202e4b59-f3ff-48ba-8158-0fed1725ce1d"
      },
      "id": "k8jY9ej23QgA",
      "execution_count": 18,
      "outputs": [
        {
          "output_type": "stream",
          "name": "stdout",
          "text": [
            "1\n",
            "2\n",
            "3\n",
            "4\n",
            "5\n",
            "6\n",
            "7\n",
            "8\n",
            "9\n",
            "10\n"
          ]
        }
      ]
    },
    {
      "cell_type": "markdown",
      "source": [
        "\n",
        "### Assignment 6: while Loop\n",
        "\n",
        "Write a program that prints all the numbers from 1 to 10 using a while loop."
      ],
      "metadata": {
        "id": "NOvU1BUb3X1E"
      },
      "id": "NOvU1BUb3X1E"
    },
    {
      "cell_type": "code",
      "source": [
        "i = 1\n",
        "while i <= 10:\n",
        "    print(i)\n",
        "    i += 1"
      ],
      "metadata": {
        "colab": {
          "base_uri": "https://localhost:8080/"
        },
        "id": "tavxIuWf3YTB",
        "outputId": "6fca1a67-a877-40d5-a61b-772a0b3d0fca"
      },
      "id": "tavxIuWf3YTB",
      "execution_count": 19,
      "outputs": [
        {
          "output_type": "stream",
          "name": "stdout",
          "text": [
            "1\n",
            "2\n",
            "3\n",
            "4\n",
            "5\n",
            "6\n",
            "7\n",
            "8\n",
            "9\n",
            "10\n"
          ]
        }
      ]
    },
    {
      "cell_type": "markdown",
      "source": [
        "\n",
        "### Assignment 7: Nested Loops\n",
        "\n",
        "Write a program that prints a 5x5 grid of asterisks (*) using nested loops.\n"
      ],
      "metadata": {
        "id": "rwdfM6t-3fAz"
      },
      "id": "rwdfM6t-3fAz"
    },
    {
      "cell_type": "code",
      "source": [
        "for i in range(5):\n",
        "    for j in range(5):\n",
        "        print(\"*\", end=\" \")\n",
        "    print()"
      ],
      "metadata": {
        "colab": {
          "base_uri": "https://localhost:8080/"
        },
        "id": "tztI12Xq3fSa",
        "outputId": "b3a871e7-98c1-4115-a3c5-aa84b1eee337"
      },
      "id": "tztI12Xq3fSa",
      "execution_count": 20,
      "outputs": [
        {
          "output_type": "stream",
          "name": "stdout",
          "text": [
            "* * * * * \n",
            "* * * * * \n",
            "* * * * * \n",
            "* * * * * \n",
            "* * * * * \n"
          ]
        }
      ]
    },
    {
      "cell_type": "markdown",
      "source": [
        "\n",
        "### Assignment 8: break Statement\n",
        "\n",
        "Write a program that asks the user to input numbers until they input 0. The program should print the sum of all the input numbers."
      ],
      "metadata": {
        "id": "YZAJibAC3pRB"
      },
      "id": "YZAJibAC3pRB"
    },
    {
      "cell_type": "code",
      "source": [
        "total = 0\n",
        "\n",
        "while True:\n",
        "    num = int(input(\"Enter a number (0 to stop): \"))\n",
        "    if num == 0:\n",
        "        break\n",
        "    total += num\n",
        "\n",
        "print(\"The sum of all the input numbers is:\", total)"
      ],
      "metadata": {
        "colab": {
          "base_uri": "https://localhost:8080/"
        },
        "id": "JBITK_4o3po-",
        "outputId": "fe484aca-9c31-4afb-f03f-c50c61648bf4"
      },
      "id": "JBITK_4o3po-",
      "execution_count": 21,
      "outputs": [
        {
          "output_type": "stream",
          "name": "stdout",
          "text": [
            "Enter a number (0 to stop): 5\n",
            "Enter a number (0 to stop): 3\n",
            "Enter a number (0 to stop): 4\n",
            "Enter a number (0 to stop): 0\n",
            "The sum of all the input numbers is: 12\n"
          ]
        }
      ]
    },
    {
      "cell_type": "markdown",
      "source": [
        "\n",
        "### Assignment 9: continue Statement\n",
        "\n",
        "Write a program that prints all the numbers from 1 to 10 except 5 using a for loop and continue statement.\n"
      ],
      "metadata": {
        "id": "6mEs_4K739V-"
      },
      "id": "6mEs_4K739V-"
    },
    {
      "cell_type": "code",
      "source": [
        "for i in range(1, 11):\n",
        "    if i == 5:\n",
        "        continue\n",
        "    print(i)"
      ],
      "metadata": {
        "colab": {
          "base_uri": "https://localhost:8080/"
        },
        "id": "PCu6f26E39qD",
        "outputId": "cd84129b-3905-4955-9e50-11c8185cf645"
      },
      "id": "PCu6f26E39qD",
      "execution_count": 10,
      "outputs": [
        {
          "output_type": "stream",
          "name": "stdout",
          "text": [
            "1\n",
            "2\n",
            "3\n",
            "4\n",
            "6\n",
            "7\n",
            "8\n",
            "9\n",
            "10\n"
          ]
        }
      ]
    },
    {
      "cell_type": "markdown",
      "source": [
        "### Assignment 10: pass Statement\n",
        "\n",
        "Write a program that defines an empty function using the pass statement."
      ],
      "metadata": {
        "id": "aVwuGn_z4OAZ"
      },
      "id": "aVwuGn_z4OAZ"
    },
    {
      "cell_type": "code",
      "source": [
        "def my_function():\n",
        "    pass\n"
      ],
      "metadata": {
        "id": "xm1lCiBJ4OrG"
      },
      "id": "xm1lCiBJ4OrG",
      "execution_count": 11,
      "outputs": []
    },
    {
      "cell_type": "markdown",
      "source": [
        "\n",
        "### Assignment 11: Combining Loops and Conditionals\n",
        "\n",
        "Write a program that asks the user to input a number and prints all the even numbers from 1 to that number using a for loop."
      ],
      "metadata": {
        "id": "x2A26wcG4XI8"
      },
      "id": "x2A26wcG4XI8"
    },
    {
      "cell_type": "code",
      "source": [
        "num = int(input(\"Enter a number: \"))\n",
        "\n",
        "for i in range(1, num + 1):\n",
        "    if i % 2 == 0:\n",
        "        print(i)\n"
      ],
      "metadata": {
        "colab": {
          "base_uri": "https://localhost:8080/"
        },
        "id": "8OqMy6pL4Xa-",
        "outputId": "96a3c420-b62b-45a8-d76a-bf385494fe48"
      },
      "id": "8OqMy6pL4Xa-",
      "execution_count": 12,
      "outputs": [
        {
          "output_type": "stream",
          "name": "stdout",
          "text": [
            "Enter a number: 10\n",
            "2\n",
            "4\n",
            "6\n",
            "8\n",
            "10\n"
          ]
        }
      ]
    },
    {
      "cell_type": "markdown",
      "source": [
        "\n",
        "### Assignment 12: Factorial Calculation\n",
        "\n",
        "Write a program that calculates the factorial of a number input by the user using a while loop."
      ],
      "metadata": {
        "id": "OQzZDuEJ4iQU"
      },
      "id": "OQzZDuEJ4iQU"
    },
    {
      "cell_type": "code",
      "source": [
        "num = int(input(\"Enter a number to calculate its factorial: \"))\n",
        "\n",
        "factorial = 1\n",
        "i = 1\n",
        "\n",
        "while i <= num:\n",
        "    factorial *= i\n",
        "    i += 1\n",
        "\n",
        "print(f\"The factorial of {num} is {factorial}\")\n"
      ],
      "metadata": {
        "colab": {
          "base_uri": "https://localhost:8080/"
        },
        "id": "dzxWS9RO4iqG",
        "outputId": "9c31677b-35a4-4af7-a36f-7b40b5b85da7"
      },
      "id": "dzxWS9RO4iqG",
      "execution_count": 13,
      "outputs": [
        {
          "output_type": "stream",
          "name": "stdout",
          "text": [
            "Enter a number to calculate its factorial: 5\n",
            "The factorial of 5 is 120\n"
          ]
        }
      ]
    },
    {
      "cell_type": "markdown",
      "source": [],
      "metadata": {
        "id": "zmvqjywz4uFF"
      },
      "id": "zmvqjywz4uFF"
    },
    {
      "cell_type": "markdown",
      "source": [
        "### Assignment 13: Sum of Digits\n",
        "\n",
        "Write a program that calculates the sum of the digits of a number input by the user using a while loop."
      ],
      "metadata": {
        "id": "nW0mOuv640Or"
      },
      "id": "nW0mOuv640Or"
    },
    {
      "cell_type": "code",
      "source": [
        "num = int(input(\"Enter a number: \"))\n",
        "num = abs(num)\n",
        "digit_sum = 0\n",
        "\n",
        "while num > 0:\n",
        "    digit = num % 10\n",
        "    digit_sum += digit\n",
        "    num = num // 10\n",
        "print(\"The sum of the digits is:\", digit_sum)\n"
      ],
      "metadata": {
        "colab": {
          "base_uri": "https://localhost:8080/"
        },
        "id": "PWccxFki4wFU",
        "outputId": "02cdf708-a4d7-47f2-b4a6-f693c3ffa934"
      },
      "id": "PWccxFki4wFU",
      "execution_count": 14,
      "outputs": [
        {
          "output_type": "stream",
          "name": "stdout",
          "text": [
            "Enter a number: 345\n",
            "The sum of the digits is: 12\n"
          ]
        }
      ]
    },
    {
      "cell_type": "markdown",
      "source": [
        "\n",
        "### Assignment 14: Prime Number Check\n",
        "\n",
        "Write a program that checks if a number input by the user is a prime number using a for loop.\n"
      ],
      "metadata": {
        "id": "KrdEXOJv5D4A"
      },
      "id": "KrdEXOJv5D4A"
    },
    {
      "cell_type": "code",
      "source": [
        "num = int(input(\"Enter a number: \"))\n",
        "\n",
        "if num <= 1:\n",
        "    print(f\"{num} is not a prime number.\")\n",
        "else:\n",
        "    is_prime = True\n",
        "    for i in range(2, int(num**0.5) + 1):\n",
        "        if num % i == 0:\n",
        "            is_prime = False\n",
        "            break\n",
        "\n",
        "    # Output the result\n",
        "    if is_prime:\n",
        "        print(f\"{num} is a prime number.\")\n",
        "    else:\n",
        "        print(f\"{num} is not a prime number.\")\n"
      ],
      "metadata": {
        "colab": {
          "base_uri": "https://localhost:8080/"
        },
        "id": "NG0DFEWL5EJl",
        "outputId": "b34a019c-c5bb-4205-9445-f4f65eca1855"
      },
      "id": "NG0DFEWL5EJl",
      "execution_count": 15,
      "outputs": [
        {
          "output_type": "stream",
          "name": "stdout",
          "text": [
            "Enter a number: 13\n",
            "13 is a prime number.\n"
          ]
        }
      ]
    },
    {
      "cell_type": "markdown",
      "metadata": {
        "id": "ACxk4D0TXiq4"
      },
      "source": [
        "\n",
        "\n",
        "### Assignment 15: Fibonacci Sequence\n",
        "\n",
        "Write a program that prints the first n Fibonacci numbers, where n is input by the user."
      ],
      "id": "ACxk4D0TXiq4"
    },
    {
      "cell_type": "code",
      "execution_count": 16,
      "metadata": {
        "id": "vAUUndrFXiq8",
        "colab": {
          "base_uri": "https://localhost:8080/"
        },
        "outputId": "d4cff992-4fd9-4eb9-cfc6-3d5830fce113"
      },
      "outputs": [
        {
          "output_type": "stream",
          "name": "stdout",
          "text": [
            "Enter the number of Fibonacci numbers to print: 5\n",
            "Fibonacci sequence:\n",
            "0\n",
            "1\n",
            "1\n",
            "2\n",
            "3\n"
          ]
        }
      ],
      "source": [
        "n = int(input(\"Enter the number of Fibonacci numbers to print: \"))\n",
        "\n",
        "a, b = 0, 1\n",
        "count = 0\n",
        "\n",
        "print(\"Fibonacci sequence:\")\n",
        "while count < n:\n",
        "    print(a)\n",
        "    a, b = b, a + b\n",
        "    count += 1\n"
      ],
      "id": "vAUUndrFXiq8"
    }
  ],
  "metadata": {
    "kernelspec": {
      "display_name": "Python 3",
      "language": "python",
      "name": "python3"
    },
    "language_info": {
      "codemirror_mode": {
        "name": "ipython",
        "version": 3
      },
      "file_extension": ".py",
      "mimetype": "text/x-python",
      "name": "python",
      "nbconvert_exporter": "python",
      "pygments_lexer": "ipython3",
      "version": "3.9.7"
    },
    "colab": {
      "provenance": []
    }
  },
  "nbformat": 4,
  "nbformat_minor": 5
}