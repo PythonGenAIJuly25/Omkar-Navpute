{
  "cells": [
    {
      "cell_type": "markdown",
      "id": "82ba8810",
      "metadata": {
        "id": "82ba8810"
      },
      "source": [
        "## Patterns Questions\n"
      ]
    },
    {
      "cell_type": "code",
      "execution_count": null,
      "id": "775e05af",
      "metadata": {
        "id": "775e05af",
        "outputId": "ac23408c-195d-422e-c3f9-0330a1fbbac5"
      },
      "outputs": [
        {
          "name": "stdout",
          "output_type": "stream",
          "text": [
            "* * * * * \n",
            "* * * * * \n",
            "* * * * * \n",
            "* * * * * \n",
            "* * * * * \n"
          ]
        }
      ],
      "source": [
        "rows = 5\n",
        "\n",
        "for row in range(rows):\n",
        "    for col in range(rows):\n",
        "        print(\"*\", end=\" \")\n",
        "    print()\n"
      ]
    },
    {
      "cell_type": "code",
      "execution_count": null,
      "id": "2d5b78d2",
      "metadata": {
        "id": "2d5b78d2",
        "outputId": "0bf15640-139d-457f-c332-74171d71c0ff"
      },
      "outputs": [
        {
          "name": "stdout",
          "output_type": "stream",
          "text": [
            "* \n",
            "* * \n",
            "* * * \n",
            "* * * * \n",
            "* * * * * \n"
          ]
        }
      ],
      "source": [
        "rows = 5\n",
        "\n",
        "for row in range(1, rows+1):\n",
        "    for col in range(row):\n",
        "        print(\"*\", end=\" \")\n",
        "    print()"
      ]
    },
    {
      "cell_type": "code",
      "execution_count": null,
      "id": "efb07416",
      "metadata": {
        "id": "efb07416",
        "outputId": "40b5fe5c-19ce-4c25-aca3-82f9a8b97fd4"
      },
      "outputs": [
        {
          "name": "stdout",
          "output_type": "stream",
          "text": [
            "        * \n",
            "      * * \n",
            "    * * * \n",
            "  * * * * \n",
            "* * * * * \n"
          ]
        }
      ],
      "source": [
        "rows = 5\n",
        "\n",
        "for row in range(1, rows+1):\n",
        "    for col in range(rows - row):\n",
        "        print(\" \", end=\" \")\n",
        "    for star in range(row):\n",
        "        print(\"*\", end=\" \")\n",
        "    print()\n",
        ""
      ]
    },
    {
      "cell_type": "code",
      "execution_count": null,
      "id": "90995b59",
      "metadata": {
        "id": "90995b59",
        "outputId": "11cf4fb7-06cd-410e-c681-24907faba838"
      },
      "outputs": [
        {
          "name": "stdout",
          "output_type": "stream",
          "text": [
            "        *  \n",
            "      *  *  \n",
            "    *  *  *  \n",
            "  *  *  *  *  \n",
            "*  *  *  *  *  \n"
          ]
        }
      ],
      "source": [
        "rows = 5\n",
        "\n",
        "for row in range(1, rows+1):\n",
        "    for col in range(rows - row):\n",
        "        print(\" \", end=\" \")\n",
        "    for star in range(row):\n",
        "        print(\"* \", end=\" \")\n",
        "    print()"
      ]
    }
  ],
  "metadata": {
    "kernelspec": {
      "display_name": "Python 3",
      "language": "python",
      "name": "python3"
    },
    "language_info": {
      "codemirror_mode": {
        "name": "ipython",
        "version": 3
      },
      "file_extension": ".py",
      "mimetype": "text/x-python",
      "name": "python",
      "nbconvert_exporter": "python",
      "pygments_lexer": "ipython3",
      "version": "3.13.3"
    },
    "colab": {
      "provenance": []
    }
  },
  "nbformat": 4,
  "nbformat_minor": 5
}