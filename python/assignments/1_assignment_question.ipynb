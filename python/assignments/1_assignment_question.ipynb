{
  "cells": [
    {
      "cell_type": "markdown",
      "metadata": {
        "id": "JEZPlVt-cg2s"
      },
      "source": [
        "# Python Basics\n",
        "## Topics Covered:\n",
        "- Syntax and Semantics\n",
        "- Variables and Data Types\n",
        "- Basic Operators (Arithmetic, Comparison, Logical)\n"
      ]
    },
    {
      "cell_type": "markdown",
      "metadata": {
        "id": "ogbyC-QIcg22"
      },
      "source": [
        "## 1. Syntax and Semantics\n",
        "\n",
        "**Question 1:** Write a Python program to print \"Hello, World!\"."
      ]
    },
    {
      "cell_type": "code",
      "execution_count": 43,
      "metadata": {
        "id": "BwiXoKAmcg23",
        "colab": {
          "base_uri": "https://localhost:8080/"
        },
        "outputId": "514cf9c9-6b20-4459-d282-c32f8fd6ad49"
      },
      "outputs": [
        {
          "output_type": "stream",
          "name": "stdout",
          "text": [
            "hello world\n"
          ]
        }
      ],
      "source": [
        "# Your code here\n",
        "print(\"hello world\")"
      ]
    },
    {
      "cell_type": "markdown",
      "metadata": {
        "id": "j6R9BYwzcg25"
      },
      "source": [
        "**Question 2:** Write a Python program that takes a user input and prints it."
      ]
    },
    {
      "cell_type": "code",
      "execution_count": 44,
      "metadata": {
        "id": "lBBwOuf3cg26",
        "colab": {
          "base_uri": "https://localhost:8080/"
        },
        "outputId": "1034ba88-fc77-4fce-8d1b-93278a2c695e"
      },
      "outputs": [
        {
          "output_type": "stream",
          "name": "stdout",
          "text": [
            "enter your nameomkar\n",
            "omkar\n"
          ]
        }
      ],
      "source": [
        "# Your code here\n",
        "print(input(\"enter your name\"))"
      ]
    },
    {
      "cell_type": "markdown",
      "metadata": {
        "id": "cQZQM0clcg27"
      },
      "source": [
        "**Question 3:** Write a Python program to check if a number is positive, negative, or zero."
      ]
    },
    {
      "cell_type": "code",
      "execution_count": 45,
      "metadata": {
        "id": "yBsX4rHncg28",
        "colab": {
          "base_uri": "https://localhost:8080/"
        },
        "outputId": "2de6b2d0-ef87-4302-d396-384af56f2b90"
      },
      "outputs": [
        {
          "output_type": "stream",
          "name": "stdout",
          "text": [
            "number is zero\n"
          ]
        }
      ],
      "source": [
        "# Your code here\n",
        "num = 0;\n",
        "if num >0 :\n",
        "  print(\"number is positive\")\n",
        "elif num == 0 :\n",
        "  print(\"number is zero\")\n",
        "else:\n",
        "  print(\"number is negative\")"
      ]
    },
    {
      "cell_type": "markdown",
      "metadata": {
        "id": "bgpMEeaMcg2-"
      },
      "source": [
        "**Question 4:** Write a Python program to find the largest of three numbers."
      ]
    },
    {
      "cell_type": "code",
      "execution_count": 46,
      "metadata": {
        "id": "RbFJqDH_cg2_",
        "colab": {
          "base_uri": "https://localhost:8080/"
        },
        "outputId": "7f97cf1b-30be-4baf-aeef-60c6bb5637e8"
      },
      "outputs": [
        {
          "output_type": "stream",
          "name": "stdout",
          "text": [
            "num3 is largest\n"
          ]
        }
      ],
      "source": [
        "# Your code here\n",
        "num1 = 8\n",
        "num2 = 6\n",
        "num3 = 9\n",
        "if num1 > num2 and num1 > num3:\n",
        "  print(\"num1 is largest\")\n",
        "elif num2 > num3 :\n",
        "  print(\"num2 is largest\")\n",
        "else:\n",
        "  print(\"num3 is largest\")"
      ]
    },
    {
      "cell_type": "markdown",
      "metadata": {
        "id": "C1ZPAfu9cg3A"
      },
      "source": [
        "**Question 5:** Write a Python program to calculate the factorial of a number.\n",
        "\n",
        "1.   List item\n",
        "2.   List item\n",
        "\n"
      ]
    },
    {
      "cell_type": "code",
      "execution_count": null,
      "metadata": {
        "id": "29dHI2WCcg3A"
      },
      "outputs": [],
      "source": [
        "# Your code here\n",
        "num = int(input(\"Enter a number: \"))\n",
        "result = 1\n",
        "for i in range(2, num+1):\n",
        "    result *= i\n",
        "print(result)"
      ]
    },
    {
      "cell_type": "markdown",
      "metadata": {
        "id": "_cGOIX3ocg3B"
      },
      "source": [
        "## 2. Variables and Data Types\n",
        "\n",
        "**Question 6:** Create variables of different data types: integer, float, string, and boolean. Print their values and types."
      ]
    },
    {
      "cell_type": "code",
      "execution_count": null,
      "metadata": {
        "id": "NE6mKSQ-cg3C"
      },
      "outputs": [],
      "source": [
        "# Your code here\n",
        "a= 10\n",
        "b= \"hello\"\n",
        "c = True\n",
        "d = 5.75\n",
        "\n",
        "print(a , type(a))\n",
        "print(b , type(b))\n",
        "print(c , type(c))\n",
        "print(d , type(d))"
      ]
    },
    {
      "cell_type": "markdown",
      "metadata": {
        "id": "EtsO-EL8cg3D"
      },
      "source": [
        "**Question 7:** Write a Python program to swap the values of two variables."
      ]
    },
    {
      "cell_type": "code",
      "execution_count": null,
      "metadata": {
        "id": "omND-M3xcg3D"
      },
      "outputs": [],
      "source": [
        "# Your code here\n",
        "a = input(\"Enter value of a: \")\n",
        "b = input(\"Enter value of b: \")\n",
        "\n",
        "temp = a\n",
        "a = b\n",
        "b = temp\n",
        "\n",
        "print(\"After swapping:\")\n",
        "print(\"a =\", a)\n",
        "print(\"b =\", b)"
      ]
    },
    {
      "cell_type": "markdown",
      "metadata": {
        "id": "qzgbN9LWcg3D"
      },
      "source": [
        "**Question 8:** Write a Python program to convert Celsius to Fahrenheit."
      ]
    },
    {
      "cell_type": "code",
      "execution_count": null,
      "metadata": {
        "id": "rSA3RfgHcg3D"
      },
      "outputs": [],
      "source": [
        "# Your code here\n",
        "celsius = float(input(\"Enter temperature in Celsius: \"))\n",
        "fahrenheit = (celsius * 9/5) + 32\n",
        "print(f\"{celsius}°C is equal to {fahrenheit}°F\")"
      ]
    },
    {
      "cell_type": "markdown",
      "metadata": {
        "id": "ujFolifMcg3E"
      },
      "source": [
        "**Question 9:** Write a Python program to concatenate two strings."
      ]
    },
    {
      "cell_type": "code",
      "execution_count": null,
      "metadata": {
        "id": "JXU-v01Pcg3E"
      },
      "outputs": [],
      "source": [
        "# Your code here\n",
        "a = \"hello\"\n",
        "b = \"world\"\n",
        "print(a,b)"
      ]
    },
    {
      "cell_type": "markdown",
      "metadata": {
        "id": "P7g_hYMecg3E"
      },
      "source": [
        "**Question 10:** Write a Python program to check if a variable is of a specific data type."
      ]
    },
    {
      "cell_type": "code",
      "execution_count": null,
      "metadata": {
        "id": "DfkjrHAmcg3F"
      },
      "outputs": [],
      "source": [
        "# Your code here\n",
        "x = 10\n",
        "if isinstance(x, int):\n",
        "    print(\"x is an integer.\")\n",
        "else:\n",
        "    print(\"x is not an integer.\")"
      ]
    },
    {
      "cell_type": "markdown",
      "metadata": {
        "id": "ZxoUD7G4cg3F"
      },
      "source": [
        "## 3. Basic Operators (Arithmetic, Comparison, Logical)\n",
        "\n",
        "**Question 11:** Write a Python program to perform arithmetic operations: addition, subtraction, multiplication, and division."
      ]
    },
    {
      "cell_type": "code",
      "execution_count": null,
      "metadata": {
        "id": "GgwUARRBcg3G"
      },
      "outputs": [],
      "source": [
        "# Your code here\n",
        "a = 10\n",
        "b = 5\n",
        "print(a+b)\n",
        "print(a-b)\n",
        "print(a*b)\n",
        "print(a/b)\n"
      ]
    },
    {
      "cell_type": "markdown",
      "metadata": {
        "id": "Dp8pMATZcg3G"
      },
      "source": [
        "**Question 12:** Write a Python program to demonstrate comparison operators: equal to, not equal to, greater than, less than."
      ]
    },
    {
      "cell_type": "code",
      "execution_count": null,
      "metadata": {
        "id": "hRdWaNDHcg3G"
      },
      "outputs": [],
      "source": [
        "# Your code here\n",
        "a = 10\n",
        "b = 5\n",
        "print(a>b)\n",
        "print(a<b)\n",
        "print(a==b)\n",
        "print(a!=b)"
      ]
    },
    {
      "cell_type": "markdown",
      "metadata": {
        "id": "AVStYfQocg3H"
      },
      "source": [
        "**Question 13:** Write a Python program to demonstrate logical operators: and, or, not."
      ]
    },
    {
      "cell_type": "code",
      "execution_count": null,
      "metadata": {
        "id": "zyv03Jk4cg3H"
      },
      "outputs": [],
      "source": [
        "# Your code here\n",
        "a = True\n",
        "b = False\n",
        "print(a and b)\n",
        "print(a or b)\n",
        "print(not b)"
      ]
    },
    {
      "cell_type": "markdown",
      "metadata": {
        "id": "aMcjfkiacg3H"
      },
      "source": [
        "**Question 14:** Write a Python program to calculate the square of a number."
      ]
    },
    {
      "cell_type": "code",
      "execution_count": null,
      "metadata": {
        "id": "JamCqurNcg3H"
      },
      "outputs": [],
      "source": [
        "# Your code here\n",
        "a = 5\n",
        "print(5 ** 2)"
      ]
    },
    {
      "cell_type": "markdown",
      "metadata": {
        "id": "VGv-nlZZcg3I"
      },
      "source": [
        "**Question 15:** Write a Python program to check if a number is even or odd."
      ]
    },
    {
      "cell_type": "code",
      "execution_count": null,
      "metadata": {
        "id": "TXTwJZZ_cg3I"
      },
      "outputs": [],
      "source": [
        "# Your code here\n",
        "num =5\n",
        "if num % 2 == 0 :\n",
        "  print(\"number is even\")\n",
        "else:\n",
        "  print(\"number is odd\")"
      ]
    },
    {
      "cell_type": "markdown",
      "metadata": {
        "id": "k-2qGjgZcg3I"
      },
      "source": [
        "**Question 16:** Write a Python program to find the sum of the first n natural numbers."
      ]
    },
    {
      "cell_type": "code",
      "execution_count": null,
      "metadata": {
        "id": "idzSIVGVcg3J"
      },
      "outputs": [],
      "source": [
        "# Your code here\n",
        "n = int(input(\"Enter a positive integer: \"))\n",
        "if n < 1:\n",
        "    print(\"Please enter a number greater than 0.\")\n",
        "else:\n",
        "    total = n * (n + 1) // 2\n",
        "    print(f\"Sum of first {n} natural numbers is: {total}\")"
      ]
    },
    {
      "cell_type": "markdown",
      "metadata": {
        "id": "v3vWSvepcg3K"
      },
      "source": [
        "**Question 17:** Write a Python program to check if a year is a leap year."
      ]
    },
    {
      "cell_type": "code",
      "execution_count": null,
      "metadata": {
        "id": "Fe3-AFM3cg3L"
      },
      "outputs": [],
      "source": [
        "# Your code here\n",
        "year = int(input(\"Enter a year: \"))\n",
        "if (year % 4 == 0) and (year % 100 != 0 or year % 400 == 0):\n",
        "    print(f\"{year} is a leap year.\")\n",
        "else:\n",
        "    print(f\"{year} is not a leap year.\")"
      ]
    },
    {
      "cell_type": "markdown",
      "metadata": {
        "id": "RjLIhWOncg3L"
      },
      "source": [
        "**Question 18:** Write a Python program to reverse a string."
      ]
    },
    {
      "cell_type": "code",
      "execution_count": null,
      "metadata": {
        "id": "Dx1sApjwcg3L"
      },
      "outputs": [],
      "source": [
        "# Your code here\n",
        "text = input(\"Enter a string: \")\n",
        "reversed_text = text[::-1]\n",
        "print(\"Reversed string:\", reversed_text)"
      ]
    },
    {
      "cell_type": "markdown",
      "metadata": {
        "id": "xADgIiWScg3M"
      },
      "source": [
        "**Question 19:** Write a Python program to check if a string is a palindrome."
      ]
    },
    {
      "cell_type": "code",
      "execution_count": null,
      "metadata": {
        "id": "QUlG0FjAcg3N"
      },
      "outputs": [],
      "source": [
        "# Your code here\n",
        "text = input(\"Enter a string: \")\n",
        "text = text.lower()\n",
        "if text == text[::-1]:\n",
        "    print(f\"'{text}' is a palindrome.\")\n",
        "else:\n",
        "    print(f\"'{text}' is not a palindrome.\")"
      ]
    },
    {
      "cell_type": "markdown",
      "metadata": {
        "id": "35DvNXMCcg3W"
      },
      "source": [
        "**Question 20:** Write a Python program to sort a list of numbers in ascending order."
      ]
    },
    {
      "cell_type": "code",
      "execution_count": null,
      "metadata": {
        "id": "D6jphfgjcg3X"
      },
      "outputs": [],
      "source": [
        "# Your code here\n",
        "numbers = [5, 2, 8, 1, 3]\n",
        "numbers.sort()\n",
        "print(\"Sorted list:\", numbers)"
      ]
    }
  ],
  "metadata": {
    "kernelspec": {
      "display_name": "Python 3",
      "language": "python",
      "name": "python3"
    },
    "language_info": {
      "codemirror_mode": {
        "name": "ipython",
        "version": 3
      },
      "file_extension": ".py",
      "mimetype": "text/x-python",
      "name": "python",
      "nbconvert_exporter": "python",
      "pygments_lexer": "ipython3",
      "version": "3.8.5"
    },
    "colab": {
      "provenance": []
    }
  },
  "nbformat": 4,
  "nbformat_minor": 0
}